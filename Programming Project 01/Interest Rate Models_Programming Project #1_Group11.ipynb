{
 "cells": [
  {
   "cell_type": "markdown",
   "metadata": {
    "deletable": true,
    "editable": true
   },
   "source": [
    "### Interest Rate Models_Programming Project #1\n",
    "#### Team Member: Weihao Li, Xinlu Xiao\n",
    "#### Contact Information: WEIHAO.LI@baruchmail.cuny.edu, xinluxiao.baruch@gmail.com"
   ]
  },
  {
   "cell_type": "markdown",
   "metadata": {},
   "source": [
    "#### README:\n",
    "1. Problem1: in the \"Curve\" class: disc_factor(start_time, end_time) \n",
    "2. Problem2: in the \"Curve\" class: forward_rate(start_time, end_time)\n",
    "3. Problem3: in the \"swap\" class: swap_rate(in_mrt, in_feq)\n",
    "4. Problem4: please refer to the optimization part\n",
    "5. Problem5: in the end: pv_swap(in_mrt,in_coupon,in_feq,libor,ois,start_time)"
   ]
  },
  {
   "cell_type": "code",
   "execution_count": 72,
   "metadata": {
    "collapsed": false,
    "deletable": true,
    "editable": true
   },
   "outputs": [],
   "source": [
    "# Python imports\n",
    "\n",
    "import numpy as np\n",
    "import math\n",
    "import matplotlib.pyplot as plt\n",
    "from scipy.interpolate import splev, splrep, splint\n",
    "import scipy.integrate as integrate\n",
    "import scipy.optimize as opt\n",
    "import time\n",
    "import pandas as pd\n",
    "from datetime import datetime as dt"
   ]
  },
  {
   "cell_type": "code",
   "execution_count": 73,
   "metadata": {
    "collapsed": true,
    "deletable": true,
    "editable": true
   },
   "outputs": [],
   "source": [
    "# data Parsing\n",
    "\n",
    "def data_reader(in_type):\n",
    "    ''' handy function to read given excel '''\n",
    "    s_filename = 'DataSheetCurve.xls'\n",
    "    s_sheetname = '3M LIBOR  OIS'\n",
    "    if in_type == 'LIBOR':\n",
    "        return pd.read_excel(s_filename, s_sheetname, skiprows=1,  parse_cols='B:E')[:2]\n",
    "    elif in_type == 'ED Futures':\n",
    "        return pd.read_excel(s_filename, s_sheetname, skiprows=5,  parse_cols='B:F')[:8]\n",
    "    elif in_type == 'Swap Rates':\n",
    "        return pd.read_excel(s_filename, s_sheetname, skiprows=15, parse_cols='B:E')[:11]\n",
    "    elif in_type == 'Fed Funds':\n",
    "        return pd.read_excel(s_filename, s_sheetname, skiprows=28, parse_cols='B:E')[:1]\n",
    "    elif in_type == 'Basis Swap Rates':\n",
    "        return pd.read_excel(s_filename, s_sheetname, skiprows=32, parse_cols='B:E')[:16]\n",
    "    else:\n",
    "        raise TypeError('There is no such instrument type')"
   ]
  },
  {
   "cell_type": "code",
   "execution_count": 74,
   "metadata": {
    "collapsed": false,
    "deletable": true,
    "editable": true
   },
   "outputs": [],
   "source": [
    "# read eurodollar data\n",
    "df = data_reader('ED Futures')\n",
    "ed_rate = df['Rate']\n",
    "ed_date = [0.0,0.25,0.5,0.75,1.0,1.25,1.5,1.75]\n",
    "\n",
    "# read swap rates data\n",
    "df = data_reader('Swap Rates')\n",
    "swap_rate = df['Rate']\n",
    "swap_date = [2.0,3.0,4.0,5.0,7.0,10.0,12.0,15.0,20.0,25.0,30.0]\n",
    "\n",
    "# read basis swap rates data\n",
    "df = data_reader('Basis Swap Rates')\n",
    "basis_rate = df['Basis (bp)'] * 1e-4\n",
    "basis_date = [0.25,0.5,0.75,1.0,1.5,2.0,3.0,4.0,5.0,7.0,10.0,12.0,15.0,20.0,25.0,30.0]\n",
    "\n",
    "# read fed fund effective rates data\n",
    "df = data_reader('Fed Funds')\n",
    "OIS_rate = df['Rate'].copy()\n",
    "OIS_date = [0.0]\n",
    "\n",
    "# read libor rates data\n",
    "df = data_reader('LIBOR')\n",
    "LIBOR_rate = df['Rate'].copy()\n",
    "LIBOR_date = [0.0,0.25]"
   ]
  },
  {
   "cell_type": "code",
   "execution_count": 75,
   "metadata": {
    "collapsed": false,
    "deletable": true,
    "editable": true
   },
   "outputs": [],
   "source": [
    "# Curve class\n",
    "\n",
    "class Curve():\n",
    "    def __init__(self, in_k, in_fi):\n",
    "        '''\n",
    "        in_k: knot points\n",
    "        in_fi: knot values\n",
    "        '''\n",
    "        self._k  = in_k\n",
    "        self._fi = in_fi\n",
    "        self.tck = splrep(self._k, self._fi) \n",
    "        \n",
    "    # calculate the OIS and LIBOR instantaneous rate\n",
    "    def instantaneous_rate(self, in_time):\n",
    "        '''\n",
    "        in_time: evaluated point\n",
    "        '''\n",
    "        return splev(in_time,self.tck)\n",
    "    \n",
    "    # calculate the derivitive of the curve\n",
    "    def dev(self,in_time,d):\n",
    "        '''\n",
    "        in_time: evaluated point\n",
    "        d: derivative degree\n",
    "        '''\n",
    "        return splev(in_time,self.tck,der = d)\n",
    "                     \n",
    "    # calculate the discount factor\n",
    "    def disc_factor(self, start_time, end_time):\n",
    "        return math.exp(-splint(start_time, end_time, self.tck))\n",
    "                     \n",
    "    # calculate the forward rate\n",
    "    def forward_rate(self, start_time, end_time):\n",
    "        return (math.exp(splint(start_time,end_time,self.tck))-1)/(end_time-start_time)"
   ]
  },
  {
   "cell_type": "code",
   "execution_count": 76,
   "metadata": {
    "collapsed": false,
    "deletable": true,
    "editable": true
   },
   "outputs": [],
   "source": [
    "# Swap class\n",
    "\n",
    "class Swap():\n",
    "    def __init__(self, in_ois, in_libor, in_time):\n",
    "        '''\n",
    "        in_ois: ois curve object\n",
    "        in_libor: libor curve object\n",
    "        in_time: evaluated point\n",
    "        '''\n",
    "        self.ois = in_ois\n",
    "        self.libor = in_libor\n",
    "        self.time = in_time\n",
    "     \n",
    "    # calculate break-even swap rates\n",
    "    def swap_rate(self, in_mrt, in_feq):\n",
    "        '''\n",
    "        in_mrt: maturity\n",
    "        in_feq: payment frequency\n",
    "        '''\n",
    "        # fixed leg\n",
    "        maturity = in_mrt\n",
    "        fix_ = 0\n",
    "        while maturity >0:\n",
    "            fix_ += 0.5 * self.ois.disc_factor(self.time, maturity)\n",
    "            maturity -= 1.0 / in_feq\n",
    "\n",
    "        # floating leg\n",
    "        maturity = in_mrt\n",
    "        float_ = 0\n",
    "        while maturity >0:\n",
    "            float_+= 0.25 * self.libor.forward_rate(maturity-0.25,maturity)*self.ois.disc_factor(self.time,maturity)\n",
    "            maturity -= .25 # quarterly in US\n",
    "        \n",
    "        return float_/fix_\n",
    "    \n",
    "    # calculate the break-even basis rates\n",
    "    def basis_rate(self, in_mrt):\n",
    "        '''\n",
    "        in_mrt: maturity\n",
    "        '''\n",
    "        maturity = in_mrt\n",
    "        # the leg paying libor\n",
    "        libor_ = 0\n",
    "        while maturity > 0:\n",
    "            libor_ += 0.25 * (self.libor.forward_rate(maturity - 0.25, maturity)\\\n",
    "                            - self.ois.forward_rate(maturity - 0.25, maturity))\\\n",
    "                            *self.ois.disc_factor(self.time, maturity)\n",
    "            maturity -= 0.25\n",
    "        \n",
    "        # the leg paying ois and spread\n",
    "        maturity = in_mrt\n",
    "        ois_ = 0\n",
    "        while maturity > 0:\n",
    "            ois_+= 0.25 *self.ois.disc_factor(self.time, maturity)\n",
    "            maturity -= .25\n",
    "       \n",
    "        return libor_  / ois_  "
   ]
  },
  {
   "cell_type": "code",
   "execution_count": 93,
   "metadata": {
    "collapsed": false,
    "deletable": true,
    "editable": true
   },
   "outputs": [],
   "source": [
    "# optimization:\n",
    "\n",
    "def obj(O_L):\n",
    "    '''\n",
    "    O_L: a vector which represent the coefficient at each knots on both OIS and LIBOR\n",
    "    '''\n",
    "    \n",
    "    # initialization \n",
    "    LIBOR_fi = O_L[0:18]\n",
    "    OIS_fi = O_L[18:]\n",
    "    \n",
    "    ois1 = Curve(knots,OIS_fi)\n",
    "    libor1 = Curve(knots,LIBOR_fi)\n",
    "    swap1 = Swap(ois1,libor1,0)\n",
    "    \n",
    "    libor_spl = splrep(knots, LIBOR_fi)\n",
    "    ois_spl = splrep(knots, OIS_fi)\n",
    "    \n",
    "    # optimization goal function\n",
    "    goal = sum([(swap1.basis_rate(i) - k) ** 2 for i,k in zip(basis_date,basis_rate)])+\\\n",
    "           sum([(libor1.forward_rate(i,i + 0.25) - k) ** 2 for i,k in zip(ed_date,ed_rate)])+\\\n",
    "           sum([(swap1.swap_rate(i,2) - k) ** 2 for i,k in zip(swap_date,swap_rate)]) +\\\n",
    "            (splev(0,libor_spl) - 0.0055) ** 2 + (splev(0,ois_spl) - 0.0007) ** 2\n",
    "\n",
    "    # penelty\n",
    "    # default lambda = 0.05\n",
    "    pnl  = 0.025*integrate.quad(lambda x:ois1.dev(x,2)**2 + libor1.dev(x,2)**2,0,30)[0]\n",
    "\n",
    "    return goal + pnl"
   ]
  },
  {
   "cell_type": "code",
   "execution_count": 94,
   "metadata": {
    "collapsed": false,
    "deletable": true,
    "editable": true
   },
   "outputs": [
    {
     "name": "stderr",
     "output_type": "stream",
     "text": [
      "D:\\Anaconda\\lib\\site-packages\\scipy\\integrate\\quadpack.py:356: IntegrationWarning: The maximum number of subdivisions (50) has been achieved.\n",
      "  If increasing the limit yields no improvement it is advised to analyze \n",
      "  the integrand in order to determine the difficulties.  If the position of a \n",
      "  local difficulty can be determined (singularity, discontinuity) one will \n",
      "  probably gain from splitting up the interval and calling the integrator \n",
      "  on the subranges.  Perhaps a special-purpose integrator should be used.\n",
      "  warnings.warn(msg, IntegrationWarning)\n"
     ]
    },
    {
     "name": "stdout",
     "output_type": "stream",
     "text": [
      "Optimization terminated successfully.\n",
      "         Current function value: 0.000002\n",
      "         Iterations: 92\n",
      "         Function evaluations: 3686\n",
      "         Gradient evaluations: 97\n"
     ]
    }
   ],
   "source": [
    "# optimization implement\n",
    "# optimization time is based on your computer\n",
    "# less than 2 minutes on 8 gb ram, i7 ubuntu 16.04\n",
    "\n",
    "knots = [-15.0, -10.0, -5.0, 0.0, 1.0, 2.0, 3.0, 5.0, 7.0, 10.0, 15.0, 20.0, 25.0, 30.0, 35.0, 40.0, 45.0, 50.0]\n",
    "O_L   = [0.01] * 36\n",
    "\n",
    "# Set the tolerance as 1e-6\n",
    "ans = opt.fmin_bfgs(obj,O_L,epsilon = 1e-6,gtol = 1e-6)"
   ]
  },
  {
   "cell_type": "code",
   "execution_count": 105,
   "metadata": {
    "collapsed": false,
    "deletable": true,
    "editable": true
   },
   "outputs": [
    {
     "name": "stdout",
     "output_type": "stream",
     "text": [
      "[ 0.00948221  0.01414217 -0.00916129  0.00544859  0.00697146  0.00788897\n",
      "  0.01306847  0.02447046  0.03070799  0.03350761  0.03243098  0.02976297\n",
      "  0.02966949  0.02928756  0.02442422  0.00629273  0.01080152  0.00989981]\n",
      "[ 0.00957092  0.01343255 -0.0058782   0.00088913  0.00132623  0.00342057\n",
      "  0.00838131  0.02080887  0.02873632  0.03220095  0.03086699  0.02893241\n",
      "  0.02836591  0.02841898  0.02334743  0.00656951  0.01074168  0.00990729]\n"
     ]
    },
    {
     "data": {
      "image/png": "[encoded data removed]",
      "text/plain": [
       "<matplotlib.figure.Figure at 0x20648d9d6a0>"
      ]
     },
     "metadata": {},
     "output_type": "display_data"
    }
   ],
   "source": [
    "# draw the libor curve and ois curve\n",
    "libor_value = ans[0:18]\n",
    "ois_value = ans[18:]\n",
    "print(libor_value)\n",
    "print(ois_value)\n",
    "\n",
    "tck = splrep(knots,libor_value)\n",
    "tck_2 = splrep(knots,ois_value)\n",
    "\n",
    "spl_libor_date = np.arange(0,30,0.01)\n",
    "spl_libor_rate = splev(spl_libor_date, tck)\n",
    "spl_ois_date = np.arange(0,30,0.01)\n",
    "spl_ois_rate = splev(spl_ois_date,tck_2)\n",
    "\n",
    "plt.plot(spl_libor_date, spl_libor_rate, label = 'LIBOR rate')\n",
    "plt.plot(spl_ois_date, spl_ois_rate, 'r', label = 'OIS rate')\n",
    "plt.legend()\n",
    "plt.ylabel('LIBOR / OIS rate')\n",
    "plt.xlabel('Maturity')\n",
    "plt.title('Instantaneous Rate of LIBOR and OIS', fontsize = 14, fontweight = 'bold')\n",
    "plt.show()"
   ]
  },
  {
   "cell_type": "code",
   "execution_count": 106,
   "metadata": {
    "collapsed": false,
    "deletable": true,
    "editable": true
   },
   "outputs": [
    {
     "data": {
      "image/png": "[encoded data removed]",
      "text/plain": [
       "<matplotlib.figure.Figure at 0x2064790f7b8>"
      ]
     },
     "metadata": {},
     "output_type": "display_data"
    }
   ],
   "source": [
    "# draw the spread curve\n",
    "plt.plot(spl_ois_date,spl_libor_rate - spl_ois_rate)\n",
    "plt.ylabel('Spread')\n",
    "plt.xlabel('Maturity')\n",
    "plt.title('LIBOR/OIS spread', fontsize = 14, fontweight = 'bold')\n",
    "plt.show()"
   ]
  },
  {
   "cell_type": "code",
   "execution_count": 97,
   "metadata": {
    "collapsed": false,
    "deletable": true,
    "editable": true
   },
   "outputs": [],
   "source": [
    "# calculate the present value of swap\n",
    "def pv_swap(in_notional,in_mrt,in_coupon,in_feq,libor,ois,start_time):\n",
    "    '''\n",
    "    in_notional: notional\n",
    "    in_mrt: maturity\n",
    "    in_coupon: coupon rate\n",
    "    in_feq: payment frequency\n",
    "    libor: curve object\n",
    "    ois: curve object\n",
    "    start_time: forward or spot\n",
    "    '''\n",
    "    # fixed leg\n",
    "    maturity = in_mrt\n",
    "    fixed_ = 0.0\n",
    "    while maturity > 0:\n",
    "        fixed_ += 0.5 * in_coupon * ois.disc_factor(start_time, maturity)\n",
    "        maturity -= 1/in_feq\n",
    "        \n",
    "    \n",
    "    # floating leg\n",
    "    maturity = in_mrt\n",
    "    float_ = 0.0\n",
    "    while maturity > 0:\n",
    "        float_+= 0.25 * libor.forward_rate(maturity-0.25,maturity)*ois.disc_factor(start_time,maturity)\n",
    "        maturity -= .25 \n",
    "    \n",
    "    return (fixed_ - float_)*in_notional      "
   ]
  },
  {
   "cell_type": "code",
   "execution_count": 98,
   "metadata": {
    "collapsed": false,
    "deletable": true,
    "editable": true
   },
   "outputs": [],
   "source": [
    "# set up parameter to test the valuation function of swap\n",
    "knots_test = [-3.0, -2.0, -1.0, 0.0, 1.0, 2.0, 3.0, 5.0, 7.0, 10.0, 15.0, 20.0, 25.0, 31.0, 32.0, 33.0, 34.0, 35.0]\n",
    "ois_test = Curve(knots_test, ois_value)\n",
    "libor_test = Curve(knots_test, libor_value)"
   ]
  },
  {
   "cell_type": "code",
   "execution_count": 112,
   "metadata": {
    "collapsed": false,
    "deletable": true,
    "editable": true
   },
   "outputs": [
    {
     "name": "stdout",
     "output_type": "stream",
     "text": [
      "### Present Value of Swap ###\n",
      "Notional: 100.0\n",
      "Maturity: 2.25\n",
      "Coupon Rate: 0.05\n",
      "Payment Frequency: 2\n",
      "->PV: 10.817210369686713\n"
     ]
    }
   ],
   "source": [
    "# spot swap test\n",
    "notional = 100.0\n",
    "maturity_test = 2.25\n",
    "coupon_rate = 0.05\n",
    "frequency = 2.0\n",
    "spot = 0\n",
    "\n",
    "result = pv_swap(notional, maturity_test,coupon_rate,frequency, libor_test,ois_test,spot)\n",
    "print('### Present Value of Swap ###')\n",
    "print('Notional:', notional)\n",
    "print('Maturity:', maturity_test)\n",
    "print('Coupon Rate:', coupon_rate)\n",
    "print('Payment Frequency:', int(frequency))\n",
    "print('->PV:', result)"
   ]
  }
 ],
 "metadata": {
  "kernelspec": {
   "display_name": "Python 3",
   "language": "python",
   "name": "python3"
  },
  "language_info": {
   "codemirror_mode": {
    "name": "ipython",
    "version": 3
   },
   "file_extension": ".py",
   "mimetype": "text/x-python",
   "name": "python",
   "nbconvert_exporter": "python",
   "pygments_lexer": "ipython3",
   "version": "3.6.0"
  }
 },
 "nbformat": 4,
 "nbformat_minor": 2
}
